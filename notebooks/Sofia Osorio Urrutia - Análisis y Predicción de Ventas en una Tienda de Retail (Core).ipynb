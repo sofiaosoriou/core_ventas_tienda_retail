{
 "cells": [
  {
   "cell_type": "markdown",
   "id": "8ecf35db",
   "metadata": {},
   "source": [
    "# Análisis y Predicción de Ventas en una Tienda de Retail (Core)\n",
    "\n",
    "## Introducción al Proyecto\n",
    "\n",
    "En este proyecto de curso, desarrollaremos un análisis integral de un conjunto de datos de ventas de una tienda de retail. El objetivo es que los estudiantes apliquen lo aprendido en las diferentes secciones del curso, desde la manipulación básica de datos con NumPy, pasando por el análisis y visualización de datos con Pandas, hasta el uso de técnicas de machine learning para realizar predicciones. Este proyecto será una excelente adición al portafolio de los estudiantes y les permitirá demostrar su competencia en varias áreas clave de la ciencia de datos.\n",
    "\n",
    "## Dataset\n",
    "\n",
    "Para este proyecto, utilizaremos un dataset reciente de Kaggle titulado “Retail Sales Dataset” (2023-2024). Este dataset contiene información detallada sobre las ventas diarias de diferentes productos en una tienda. Puedes descargar el dataset desde Kaggle.\n",
    "\n",
    "## Parte 1: Análisis Básico con NumPy\n",
    "\n",
    "En esta primera parte del proyecto, los estudiantes realizarán un análisis preliminar del dataset utilizando NumPy. El objetivo es familiarizarse con los datos y realizar operaciones básicas de manipulación y análisis.\n",
    "\n",
    "## Instrucciones\n",
    "\n",
    "### Configuración Inicial del Proyecto:\n",
    "- Crea un repositorio en GitHub para tu proyecto.\n",
    "- Configura dos ramas en tu repositorio: main y development.\n",
    "- Agrega un archivo README.md con una descripción del proyecto, instrucciones de instalación y uso.\n",
    "### Carga y Preprocesamiento de Datos:\n",
    "- Carga los datos del archivo CSV utilizando NumPy.\n",
    "- Realiza un preprocesamiento básico para asegurarte de que los datos estén limpios y listos para su análisis.\n",
    "### Exploración de Datos:\n",
    "- Calcula el total de ventas por categoría de producto.\n",
    "- Calcula el promedio de ventas diarias por categoría de producto.\n",
    "- Identifica las categorías de productos con mayores y menores ventas.\n",
    "### Manipulación de Datos:\n",
    "- Filtra los datos para mostrar solo las ventas de una categoría de producto específica.\n",
    "- Realiza operaciones de suma, resta, multiplicación y división en los datos para obtener estadísticas adicionales."
   ]
  },
  {
   "cell_type": "code",
   "execution_count": 63,
   "id": "100b0d7a",
   "metadata": {},
   "outputs": [
    {
     "name": "stdout",
     "output_type": "stream",
     "text": [
      "Requirement already satisfied: pandas in c:\\users\\sofia osorio urrutia\\appdata\\local\\programs\\python\\python311\\lib\\site-packages (2.3.0)Note: you may need to restart the kernel to use updated packages.\n",
      "\n",
      "Requirement already satisfied: numpy>=1.23.2 in c:\\users\\sofia osorio urrutia\\appdata\\local\\programs\\python\\python311\\lib\\site-packages (from pandas) (2.2.6)\n",
      "Requirement already satisfied: python-dateutil>=2.8.2 in c:\\users\\sofia osorio urrutia\\appdata\\local\\programs\\python\\python311\\lib\\site-packages (from pandas) (2.8.2)\n",
      "Requirement already satisfied: pytz>=2020.1 in c:\\users\\sofia osorio urrutia\\appdata\\local\\programs\\python\\python311\\lib\\site-packages (from pandas) (2025.2)\n",
      "Requirement already satisfied: tzdata>=2022.7 in c:\\users\\sofia osorio urrutia\\appdata\\local\\programs\\python\\python311\\lib\\site-packages (from pandas) (2025.2)\n",
      "Requirement already satisfied: six>=1.5 in c:\\users\\sofia osorio urrutia\\appdata\\local\\programs\\python\\python311\\lib\\site-packages (from python-dateutil>=2.8.2->pandas) (1.16.0)\n"
     ]
    },
    {
     "name": "stderr",
     "output_type": "stream",
     "text": [
      "\n",
      "[notice] A new release of pip available: 22.3.1 -> 25.1.1\n",
      "[notice] To update, run: python.exe -m pip install --upgrade pip\n"
     ]
    }
   ],
   "source": [
    "%pip install pandas"
   ]
  },
  {
   "cell_type": "code",
   "execution_count": null,
   "id": "1feab5d0",
   "metadata": {},
   "outputs": [],
   "source": [
    "import pandas as pd"
   ]
  },
  {
   "cell_type": "markdown",
   "id": "b29b9df5",
   "metadata": {},
   "source": [
    "# 2. Carga y Preprocesamiento de Datos"
   ]
  },
  {
   "cell_type": "code",
   "execution_count": 58,
   "id": "04c089b9",
   "metadata": {},
   "outputs": [],
   "source": [
    "#carga de datos\n",
    "df = pd.read_csv('../data/retail_sales_dataset.csv')"
   ]
  },
  {
   "cell_type": "code",
   "execution_count": null,
   "id": "16d32152",
   "metadata": {},
   "outputs": [
    {
     "name": "stdout",
     "output_type": "stream",
     "text": [
      "<class 'pandas.core.frame.DataFrame'>\n",
      "RangeIndex: 1000 entries, 0 to 999\n",
      "Data columns (total 9 columns):\n",
      " #   Column            Non-Null Count  Dtype \n",
      "---  ------            --------------  ----- \n",
      " 0   transaction_id    1000 non-null   int64 \n",
      " 1   date              1000 non-null   object\n",
      " 2   customer_id       1000 non-null   object\n",
      " 3   gender            1000 non-null   object\n",
      " 4   age               1000 non-null   int64 \n",
      " 5   product_category  1000 non-null   object\n",
      " 6   quantity          1000 non-null   int64 \n",
      " 7   price_per_unit    1000 non-null   int64 \n",
      " 8   total_amount      1000 non-null   int64 \n",
      "dtypes: int64(5), object(4)\n",
      "memory usage: 70.4+ KB\n"
     ]
    },
    {
     "data": {
      "text/plain": [
       "(1000, 9)"
      ]
     },
     "execution_count": 67,
     "metadata": {},
     "output_type": "execute_result"
    }
   ],
   "source": [
    "#EDA\n",
    "#1. Damos un vistazo general usando .info() y .describe().\n",
    "#2. Nos aseguramos de no tener datos duplicados.\n",
    "#3. Revisamos y limpiamos los tipos de datos.\n",
    "#4. Revisamos y limpiamos los datos de las columnas o filas que lo necesiten.\n",
    "#5. Manejamos los datos nulos.\n",
    "\n",
    "#1 conocer la data\n",
    "df.info() #no se observa que falten datos ya que todas las columnas tiene 1000 filas\n",
    "df.describe().round().T\n",
    "df.shape #ver filas y columnas\n",
    "\n",
    "#se ve que lacolumna date es de tipo oject, si queremos utilizarla para hacer calculos, sera necesario cambiar su tipo"
   ]
  },
  {
   "cell_type": "code",
   "execution_count": 68,
   "id": "181606a0",
   "metadata": {},
   "outputs": [
    {
     "data": {
      "text/html": [
       "<div>\n",
       "<style scoped>\n",
       "    .dataframe tbody tr th:only-of-type {\n",
       "        vertical-align: middle;\n",
       "    }\n",
       "\n",
       "    .dataframe tbody tr th {\n",
       "        vertical-align: top;\n",
       "    }\n",
       "\n",
       "    .dataframe thead th {\n",
       "        text-align: right;\n",
       "    }\n",
       "</style>\n",
       "<table border=\"1\" class=\"dataframe\">\n",
       "  <thead>\n",
       "    <tr style=\"text-align: right;\">\n",
       "      <th></th>\n",
       "      <th>transaction_id</th>\n",
       "      <th>date</th>\n",
       "      <th>customer_id</th>\n",
       "      <th>gender</th>\n",
       "      <th>age</th>\n",
       "      <th>product_category</th>\n",
       "      <th>quantity</th>\n",
       "      <th>price_per_unit</th>\n",
       "      <th>total_amount</th>\n",
       "    </tr>\n",
       "  </thead>\n",
       "  <tbody>\n",
       "    <tr>\n",
       "      <th>0</th>\n",
       "      <td>1</td>\n",
       "      <td>2023-11-24</td>\n",
       "      <td>CUST001</td>\n",
       "      <td>Male</td>\n",
       "      <td>34</td>\n",
       "      <td>Beauty</td>\n",
       "      <td>3</td>\n",
       "      <td>50</td>\n",
       "      <td>150</td>\n",
       "    </tr>\n",
       "    <tr>\n",
       "      <th>1</th>\n",
       "      <td>2</td>\n",
       "      <td>2023-02-27</td>\n",
       "      <td>CUST002</td>\n",
       "      <td>Female</td>\n",
       "      <td>26</td>\n",
       "      <td>Clothing</td>\n",
       "      <td>2</td>\n",
       "      <td>500</td>\n",
       "      <td>1000</td>\n",
       "    </tr>\n",
       "    <tr>\n",
       "      <th>2</th>\n",
       "      <td>3</td>\n",
       "      <td>2023-01-13</td>\n",
       "      <td>CUST003</td>\n",
       "      <td>Male</td>\n",
       "      <td>50</td>\n",
       "      <td>Electronics</td>\n",
       "      <td>1</td>\n",
       "      <td>30</td>\n",
       "      <td>30</td>\n",
       "    </tr>\n",
       "    <tr>\n",
       "      <th>3</th>\n",
       "      <td>4</td>\n",
       "      <td>2023-05-21</td>\n",
       "      <td>CUST004</td>\n",
       "      <td>Male</td>\n",
       "      <td>37</td>\n",
       "      <td>Clothing</td>\n",
       "      <td>1</td>\n",
       "      <td>500</td>\n",
       "      <td>500</td>\n",
       "    </tr>\n",
       "    <tr>\n",
       "      <th>4</th>\n",
       "      <td>5</td>\n",
       "      <td>2023-05-06</td>\n",
       "      <td>CUST005</td>\n",
       "      <td>Male</td>\n",
       "      <td>30</td>\n",
       "      <td>Beauty</td>\n",
       "      <td>2</td>\n",
       "      <td>50</td>\n",
       "      <td>100</td>\n",
       "    </tr>\n",
       "  </tbody>\n",
       "</table>\n",
       "</div>"
      ],
      "text/plain": [
       "   transaction_id        date customer_id  gender  age product_category  \\\n",
       "0               1  2023-11-24     CUST001    Male   34           Beauty   \n",
       "1               2  2023-02-27     CUST002  Female   26         Clothing   \n",
       "2               3  2023-01-13     CUST003    Male   50      Electronics   \n",
       "3               4  2023-05-21     CUST004    Male   37         Clothing   \n",
       "4               5  2023-05-06     CUST005    Male   30           Beauty   \n",
       "\n",
       "   quantity  price_per_unit  total_amount  \n",
       "0         3              50           150  \n",
       "1         2             500          1000  \n",
       "2         1              30            30  \n",
       "3         1             500           500  \n",
       "4         2              50           100  "
      ]
     },
     "execution_count": 68,
     "metadata": {},
     "output_type": "execute_result"
    }
   ],
   "source": [
    "df.head() "
   ]
  },
  {
   "cell_type": "code",
   "execution_count": 60,
   "id": "141d29ae",
   "metadata": {},
   "outputs": [
    {
     "data": {
      "text/plain": [
       "np.int64(0)"
      ]
     },
     "execution_count": 60,
     "metadata": {},
     "output_type": "execute_result"
    }
   ],
   "source": [
    "#2. Revisar si hay datosduplicados\n",
    "df.duplicated()\n",
    "df.duplicated().sum() #no se observan datos duplicados"
   ]
  },
  {
   "cell_type": "code",
   "execution_count": 61,
   "id": "7068b071",
   "metadata": {},
   "outputs": [
    {
     "data": {
      "text/plain": [
       "Index(['transaction_id', 'date', 'customer_id', 'gender', 'age',\n",
       "       'product_category', 'quantity', 'price_per_unit', 'total_amount'],\n",
       "      dtype='object')"
      ]
     },
     "execution_count": 61,
     "metadata": {},
     "output_type": "execute_result"
    }
   ],
   "source": [
    "#3. limpiar tipos de datos\n",
    " \n",
    "df.columns\n",
    "#cambiar todo a minuscula y los espacios reemplazarlos por _\n",
    "df.columns = df.columns.str.lower().str.replace(\" \", \"_\")\n",
    "df.columns"
   ]
  },
  {
   "cell_type": "code",
   "execution_count": null,
   "id": "f5d70b5c",
   "metadata": {},
   "outputs": [],
   "source": []
  },
  {
   "cell_type": "code",
   "execution_count": 98,
   "id": "51a8591b",
   "metadata": {},
   "outputs": [
    {
     "name": "stdout",
     "output_type": "stream",
     "text": [
      "<class 'pandas.core.frame.DataFrame'>\n",
      "RangeIndex: 1000 entries, 0 to 999\n",
      "Data columns (total 9 columns):\n",
      " #   Column            Non-Null Count  Dtype         \n",
      "---  ------            --------------  -----         \n",
      " 0   transaction_id    1000 non-null   int64         \n",
      " 1   date              1000 non-null   datetime64[ns]\n",
      " 2   customer_id       1000 non-null   object        \n",
      " 3   gender            1000 non-null   object        \n",
      " 4   age               1000 non-null   int64         \n",
      " 5   product_category  1000 non-null   object        \n",
      " 6   quantity          1000 non-null   int64         \n",
      " 7   price_per_unit    1000 non-null   int64         \n",
      " 8   total_amount      1000 non-null   int64         \n",
      "dtypes: datetime64[ns](1), int64(5), object(3)\n",
      "memory usage: 70.4+ KB\n"
     ]
    }
   ],
   "source": [
    "#cambiar el tipo de dato de la columna date a datetime\n",
    "df[\"date\"] = pd.to_datetime(df[\"date\"])\n",
    "#comprobar el cambio\n",
    "df.info()"
   ]
  },
  {
   "cell_type": "code",
   "execution_count": 65,
   "id": "a0d80df5",
   "metadata": {},
   "outputs": [
    {
     "data": {
      "text/plain": [
       "date\n",
       "2023-05-16    11\n",
       "2023-07-14    10\n",
       "2023-05-23     9\n",
       "2023-02-05     8\n",
       "2023-08-05     8\n",
       "              ..\n",
       "2023-03-02     1\n",
       "2023-08-02     1\n",
       "2023-04-17     1\n",
       "2023-03-30     1\n",
       "2023-05-28     1\n",
       "Name: count, Length: 345, dtype: int64"
      ]
     },
     "execution_count": 65,
     "metadata": {},
     "output_type": "execute_result"
    }
   ],
   "source": [
    "#reviso columna por columna\n",
    "df[\"gender\"].value_counts()\n",
    "df[\"product_category\"].value_counts()\n",
    "df[\"date\"].value_counts()\n"
   ]
  },
  {
   "cell_type": "markdown",
   "id": "81cd6db1",
   "metadata": {},
   "source": [
    "# 3.Exploración de Datos"
   ]
  },
  {
   "cell_type": "markdown",
   "id": "cd3a00ef",
   "metadata": {},
   "source": [
    "### Calcula el total de ventas por categoría de producto."
   ]
  },
  {
   "cell_type": "code",
   "execution_count": 74,
   "id": "fa6057d2",
   "metadata": {},
   "outputs": [
    {
     "data": {
      "text/plain": [
       "product_category\n",
       "Beauty         143515\n",
       "Clothing       155580\n",
       "Electronics    156905\n",
       "Name: total_amount, dtype: int64"
      ]
     },
     "execution_count": 74,
     "metadata": {},
     "output_type": "execute_result"
    }
   ],
   "source": [
    "df.groupby(\"product_category\")[\"total_amount\"].sum()"
   ]
  },
  {
   "cell_type": "markdown",
   "id": "cacc90cd",
   "metadata": {},
   "source": [
    "### Calcula el promedio de ventas diarias por categoría de producto.\n"
   ]
  },
  {
   "cell_type": "code",
   "execution_count": 69,
   "id": "ee2ef5b3",
   "metadata": {},
   "outputs": [
    {
     "data": {
      "text/plain": [
       "product_category\n",
       "Beauty         467.48\n",
       "Clothing       443.25\n",
       "Electronics    458.79\n",
       "Name: total_amount, dtype: float64"
      ]
     },
     "execution_count": 69,
     "metadata": {},
     "output_type": "execute_result"
    }
   ],
   "source": [
    "df.groupby(\"product_category\")[\"total_amount\"].mean().round(2)"
   ]
  },
  {
   "cell_type": "markdown",
   "id": "71b6761d",
   "metadata": {},
   "source": [
    "### Identifica las categorías de productos con mayores y menores ventas."
   ]
  },
  {
   "cell_type": "code",
   "execution_count": null,
   "id": "23b35140",
   "metadata": {},
   "outputs": [
    {
     "data": {
      "text/plain": [
       "product_category\n",
       "Beauty    143515\n",
       "Name: total_amount, dtype: int64"
      ]
     },
     "execution_count": 84,
     "metadata": {},
     "output_type": "execute_result"
    }
   ],
   "source": [
    "#categoria con mayor venta: Electronics\n",
    "df.groupby(\"product_category\")[\"total_amount\"].sum().sort_values(ascending=False).head(1)\n",
    "#categoria con menor venta: Beauty\n",
    "df.groupby(\"product_category\")[\"total_amount\"].sum().sort_values(ascending=False).tail(1)"
   ]
  },
  {
   "cell_type": "markdown",
   "id": "4eac0047",
   "metadata": {},
   "source": [
    "## 4. Manipulación de Datos:\n",
    "### Filtra los datos para mostrar solo las ventas de una categoría de producto específica."
   ]
  },
  {
   "cell_type": "code",
   "execution_count": 90,
   "id": "529c7e54",
   "metadata": {},
   "outputs": [
    {
     "data": {
      "text/html": [
       "<div>\n",
       "<style scoped>\n",
       "    .dataframe tbody tr th:only-of-type {\n",
       "        vertical-align: middle;\n",
       "    }\n",
       "\n",
       "    .dataframe tbody tr th {\n",
       "        vertical-align: top;\n",
       "    }\n",
       "\n",
       "    .dataframe thead th {\n",
       "        text-align: right;\n",
       "    }\n",
       "</style>\n",
       "<table border=\"1\" class=\"dataframe\">\n",
       "  <thead>\n",
       "    <tr style=\"text-align: right;\">\n",
       "      <th></th>\n",
       "      <th>transaction_id</th>\n",
       "      <th>date</th>\n",
       "      <th>customer_id</th>\n",
       "      <th>gender</th>\n",
       "      <th>age</th>\n",
       "      <th>product_category</th>\n",
       "      <th>quantity</th>\n",
       "      <th>price_per_unit</th>\n",
       "      <th>total_amount</th>\n",
       "    </tr>\n",
       "  </thead>\n",
       "  <tbody>\n",
       "    <tr>\n",
       "      <th>0</th>\n",
       "      <td>1</td>\n",
       "      <td>2023-11-24</td>\n",
       "      <td>CUST001</td>\n",
       "      <td>Male</td>\n",
       "      <td>34</td>\n",
       "      <td>Beauty</td>\n",
       "      <td>3</td>\n",
       "      <td>50</td>\n",
       "      <td>150</td>\n",
       "    </tr>\n",
       "    <tr>\n",
       "      <th>4</th>\n",
       "      <td>5</td>\n",
       "      <td>2023-05-06</td>\n",
       "      <td>CUST005</td>\n",
       "      <td>Male</td>\n",
       "      <td>30</td>\n",
       "      <td>Beauty</td>\n",
       "      <td>2</td>\n",
       "      <td>50</td>\n",
       "      <td>100</td>\n",
       "    </tr>\n",
       "    <tr>\n",
       "      <th>5</th>\n",
       "      <td>6</td>\n",
       "      <td>2023-04-25</td>\n",
       "      <td>CUST006</td>\n",
       "      <td>Female</td>\n",
       "      <td>45</td>\n",
       "      <td>Beauty</td>\n",
       "      <td>1</td>\n",
       "      <td>30</td>\n",
       "      <td>30</td>\n",
       "    </tr>\n",
       "    <tr>\n",
       "      <th>11</th>\n",
       "      <td>12</td>\n",
       "      <td>2023-10-30</td>\n",
       "      <td>CUST012</td>\n",
       "      <td>Male</td>\n",
       "      <td>35</td>\n",
       "      <td>Beauty</td>\n",
       "      <td>3</td>\n",
       "      <td>25</td>\n",
       "      <td>75</td>\n",
       "    </tr>\n",
       "    <tr>\n",
       "      <th>20</th>\n",
       "      <td>21</td>\n",
       "      <td>2023-01-14</td>\n",
       "      <td>CUST021</td>\n",
       "      <td>Female</td>\n",
       "      <td>50</td>\n",
       "      <td>Beauty</td>\n",
       "      <td>1</td>\n",
       "      <td>500</td>\n",
       "      <td>500</td>\n",
       "    </tr>\n",
       "    <tr>\n",
       "      <th>...</th>\n",
       "      <td>...</td>\n",
       "      <td>...</td>\n",
       "      <td>...</td>\n",
       "      <td>...</td>\n",
       "      <td>...</td>\n",
       "      <td>...</td>\n",
       "      <td>...</td>\n",
       "      <td>...</td>\n",
       "      <td>...</td>\n",
       "    </tr>\n",
       "    <tr>\n",
       "      <th>981</th>\n",
       "      <td>982</td>\n",
       "      <td>2023-12-19</td>\n",
       "      <td>CUST982</td>\n",
       "      <td>Female</td>\n",
       "      <td>46</td>\n",
       "      <td>Beauty</td>\n",
       "      <td>3</td>\n",
       "      <td>30</td>\n",
       "      <td>90</td>\n",
       "    </tr>\n",
       "    <tr>\n",
       "      <th>989</th>\n",
       "      <td>990</td>\n",
       "      <td>2023-05-25</td>\n",
       "      <td>CUST990</td>\n",
       "      <td>Female</td>\n",
       "      <td>58</td>\n",
       "      <td>Beauty</td>\n",
       "      <td>2</td>\n",
       "      <td>500</td>\n",
       "      <td>1000</td>\n",
       "    </tr>\n",
       "    <tr>\n",
       "      <th>993</th>\n",
       "      <td>994</td>\n",
       "      <td>2023-12-18</td>\n",
       "      <td>CUST994</td>\n",
       "      <td>Female</td>\n",
       "      <td>51</td>\n",
       "      <td>Beauty</td>\n",
       "      <td>2</td>\n",
       "      <td>500</td>\n",
       "      <td>1000</td>\n",
       "    </tr>\n",
       "    <tr>\n",
       "      <th>996</th>\n",
       "      <td>997</td>\n",
       "      <td>2023-11-17</td>\n",
       "      <td>CUST997</td>\n",
       "      <td>Male</td>\n",
       "      <td>52</td>\n",
       "      <td>Beauty</td>\n",
       "      <td>3</td>\n",
       "      <td>30</td>\n",
       "      <td>90</td>\n",
       "    </tr>\n",
       "    <tr>\n",
       "      <th>997</th>\n",
       "      <td>998</td>\n",
       "      <td>2023-10-29</td>\n",
       "      <td>CUST998</td>\n",
       "      <td>Female</td>\n",
       "      <td>23</td>\n",
       "      <td>Beauty</td>\n",
       "      <td>4</td>\n",
       "      <td>25</td>\n",
       "      <td>100</td>\n",
       "    </tr>\n",
       "  </tbody>\n",
       "</table>\n",
       "<p>307 rows × 9 columns</p>\n",
       "</div>"
      ],
      "text/plain": [
       "     transaction_id        date customer_id  gender  age product_category  \\\n",
       "0                 1  2023-11-24     CUST001    Male   34           Beauty   \n",
       "4                 5  2023-05-06     CUST005    Male   30           Beauty   \n",
       "5                 6  2023-04-25     CUST006  Female   45           Beauty   \n",
       "11               12  2023-10-30     CUST012    Male   35           Beauty   \n",
       "20               21  2023-01-14     CUST021  Female   50           Beauty   \n",
       "..              ...         ...         ...     ...  ...              ...   \n",
       "981             982  2023-12-19     CUST982  Female   46           Beauty   \n",
       "989             990  2023-05-25     CUST990  Female   58           Beauty   \n",
       "993             994  2023-12-18     CUST994  Female   51           Beauty   \n",
       "996             997  2023-11-17     CUST997    Male   52           Beauty   \n",
       "997             998  2023-10-29     CUST998  Female   23           Beauty   \n",
       "\n",
       "     quantity  price_per_unit  total_amount  \n",
       "0           3              50           150  \n",
       "4           2              50           100  \n",
       "5           1              30            30  \n",
       "11          3              25            75  \n",
       "20          1             500           500  \n",
       "..        ...             ...           ...  \n",
       "981         3              30            90  \n",
       "989         2             500          1000  \n",
       "993         2             500          1000  \n",
       "996         3              30            90  \n",
       "997         4              25           100  \n",
       "\n",
       "[307 rows x 9 columns]"
      ]
     },
     "execution_count": 90,
     "metadata": {},
     "output_type": "execute_result"
    }
   ],
   "source": [
    "df[df[\"product_category\"]==\"Beauty\"]"
   ]
  },
  {
   "cell_type": "markdown",
   "id": "b97a1da9",
   "metadata": {},
   "source": [
    "### Realiza operaciones de suma, resta, multiplicación y división en los datos para obtener estadísticas adicionales."
   ]
  },
  {
   "cell_type": "code",
   "execution_count": null,
   "id": "ee08281e",
   "metadata": {},
   "outputs": [
    {
     "data": {
      "text/html": [
       "<div>\n",
       "<style scoped>\n",
       "    .dataframe tbody tr th:only-of-type {\n",
       "        vertical-align: middle;\n",
       "    }\n",
       "\n",
       "    .dataframe tbody tr th {\n",
       "        vertical-align: top;\n",
       "    }\n",
       "\n",
       "    .dataframe thead th {\n",
       "        text-align: right;\n",
       "    }\n",
       "</style>\n",
       "<table border=\"1\" class=\"dataframe\">\n",
       "  <thead>\n",
       "    <tr style=\"text-align: right;\">\n",
       "      <th>gender</th>\n",
       "      <th>Female</th>\n",
       "      <th>Male</th>\n",
       "    </tr>\n",
       "    <tr>\n",
       "      <th>product_category</th>\n",
       "      <th></th>\n",
       "      <th></th>\n",
       "    </tr>\n",
       "  </thead>\n",
       "  <tbody>\n",
       "    <tr>\n",
       "      <th>Beauty</th>\n",
       "      <td>74830</td>\n",
       "      <td>68685</td>\n",
       "    </tr>\n",
       "    <tr>\n",
       "      <th>Clothing</th>\n",
       "      <td>81275</td>\n",
       "      <td>74305</td>\n",
       "    </tr>\n",
       "    <tr>\n",
       "      <th>Electronics</th>\n",
       "      <td>76735</td>\n",
       "      <td>80170</td>\n",
       "    </tr>\n",
       "  </tbody>\n",
       "</table>\n",
       "</div>"
      ],
      "text/plain": [
       "gender            Female   Male\n",
       "product_category               \n",
       "Beauty             74830  68685\n",
       "Clothing           81275  74305\n",
       "Electronics        76735  80170"
      ]
     },
     "execution_count": 94,
     "metadata": {},
     "output_type": "execute_result"
    }
   ],
   "source": [
    "#Total de ventas por categoria y genero\n",
    "df.groupby([\"product_category\",\"gender\"])[\"total_amount\"].sum().round(2).unstack()"
   ]
  },
  {
   "cell_type": "code",
   "execution_count": null,
   "id": "3b8e5786",
   "metadata": {},
   "outputs": [
    {
     "data": {
      "text/plain": [
       "date\n",
       "2023-01    35450\n",
       "2023-02    44060\n",
       "2023-03    28990\n",
       "2023-04    33870\n",
       "2023-05    53150\n",
       "2023-06    36715\n",
       "2023-07    35465\n",
       "2023-08    36960\n",
       "2023-09    23620\n",
       "2023-10    46580\n",
       "2023-11    34920\n",
       "2023-12    44690\n",
       "2024-01     1530\n",
       "Freq: M, Name: total_amount, dtype: int64"
      ]
     },
     "execution_count": 99,
     "metadata": {},
     "output_type": "execute_result"
    }
   ],
   "source": [
    "#ventas por mes\n",
    "\n",
    "\n",
    "df.groupby(df[\"date\"].dt.to_period(\"M\"))[\"total_amount\"].sum().round(2) "
   ]
  },
  {
   "cell_type": "code",
   "execution_count": 102,
   "id": "671e01a6",
   "metadata": {},
   "outputs": [
    {
     "data": {
      "text/plain": [
       "product_category\n",
       "Beauty         40.0\n",
       "Clothing       42.0\n",
       "Electronics    42.0\n",
       "Name: age, dtype: float64"
      ]
     },
     "execution_count": 102,
     "metadata": {},
     "output_type": "execute_result"
    }
   ],
   "source": [
    "#promedio de edad por categoria\n",
    "df.groupby(\"product_category\")[\"age\"].mean().round()"
   ]
  }
 ],
 "metadata": {
  "kernelspec": {
   "display_name": "Python 3",
   "language": "python",
   "name": "python3"
  },
  "language_info": {
   "codemirror_mode": {
    "name": "ipython",
    "version": 3
   },
   "file_extension": ".py",
   "mimetype": "text/x-python",
   "name": "python",
   "nbconvert_exporter": "python",
   "pygments_lexer": "ipython3",
   "version": "3.11.3"
  }
 },
 "nbformat": 4,
 "nbformat_minor": 5
}
